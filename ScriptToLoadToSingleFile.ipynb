{
 "cells": [
  {
   "cell_type": "markdown",
   "metadata": {},
   "source": [
    "# Functionality to pick the latest File from each folder and append the data to one file "
   ]
  },
  {
   "cell_type": "markdown",
   "metadata": {},
   "source": [
    "Steps:\n",
    "1. Read the folder path\n",
    "2. Access the file path and get the latest modified file from each folder - Filename and modified date\n",
    "3. 4 tabs in excel \n",
    "4. Append all the data in one file"
   ]
  },
  {
   "cell_type": "code",
   "execution_count": 4,
   "metadata": {},
   "outputs": [],
   "source": [
    "import pandas as pd\n",
    "import os\n",
    "from datetime import datetime"
   ]
  },
  {
   "cell_type": "markdown",
   "metadata": {},
   "source": [
    "How It Works:\n",
    "> os.walk(): Recursively goes through the directory and its subdirectories.\n",
    "> os.path.getmtime(): Gets the last modified time of the file.\n",
    "> latest_file and latest_time: Keeps track of the most recently modified file and its modification time."
   ]
  },
  {
   "cell_type": "code",
   "execution_count": 2,
   "metadata": {},
   "outputs": [],
   "source": [
    "def find_latest_modified_file(directory):\n",
    "    latest_file = None\n",
    "    latest_time = 0\n",
    "\n",
    "    # Walk through the directory and subdirectories\n",
    "    for root, dirs, files in os.walk(directory):\n",
    "        for file in files:\n",
    "            # Get the full file path\n",
    "            file_path = os.path.join(root, file)\n",
    "            # Get the last modified time\n",
    "            file_time = os.path.getmtime(file_path)\n",
    "            \n",
    "            # Check if this is the latest file\n",
    "            if file_time > latest_time:\n",
    "                latest_time = file_time\n",
    "                latest_file = file_path\n",
    "\n",
    "    return latest_file"
   ]
  },
  {
   "cell_type": "code",
   "execution_count": null,
   "metadata": {},
   "outputs": [],
   "source": []
  },
  {
   "cell_type": "code",
   "execution_count": 3,
   "metadata": {},
   "outputs": [
    {
     "name": "stdout",
     "output_type": "stream",
     "text": [
      "The latest modified file is: C:/Users/berry/Documents/PythonScript/Data/2024\\May\\Samplethree.xlsx\n"
     ]
    }
   ],
   "source": [
    "directory = \"C:/Users/berry/Documents/PythonScript/Data/2024\"  # Replace with your directory path\n",
    "latest_file = find_latest_modified_file(directory)\n",
    "if latest_file:\n",
    "    print(f\"The latest modified file is: {latest_file}\")\n",
    "else:\n",
    "    print(\"No files found in the directory.\")"
   ]
  },
  {
   "cell_type": "markdown",
   "metadata": {},
   "source": [
    "#------------------\n"
   ]
  },
  {
   "cell_type": "code",
   "execution_count": 5,
   "metadata": {},
   "outputs": [],
   "source": [
    "def get_latest_files(root_dir):\n",
    "    latest_files = {}\n",
    "\n",
    "    for dirpath, dirnames, filenames in os.walk(root_dir):\n",
    "        for filename in filenames:\n",
    "            file_path = os.path.join(dirpath, filename)\n",
    "            modified_time = os.path.getmtime(file_path)\n",
    "\n",
    "            if filename in latest_files:\n",
    "                # Compare the modified time to check if the current file is newer\n",
    "                if modified_time > latest_files[filename][1]:\n",
    "                    latest_files[filename] = (file_path, modified_time)\n",
    "            else:\n",
    "                latest_files[filename] = (file_path, modified_time)\n",
    "\n",
    "    # Convert the modified time to a readable format and return the result\n",
    "    result = {filename: (file_path, datetime.fromtimestamp(modified_time).strftime('%Y-%m-%d %H:%M:%S')) \n",
    "              for filename, (file_path, modified_time) in latest_files.items()}\n",
    "\n",
    "    return result"
   ]
  },
  {
   "cell_type": "code",
   "execution_count": 9,
   "metadata": {},
   "outputs": [
    {
     "name": "stdout",
     "output_type": "stream",
     "text": [
      "Data from C:/Users/berry/Documents/PythonScript/Data/2024\\Apr\\Samplefour.xlsx has been appended to C:/Users/berry/Documents/PythonScript/Data/2024/Final.xlsx\n",
      "Filename: Samplefour.xlsx\n",
      "Path: C:/Users/berry/Documents/PythonScript/Data/2024\\Apr\\Samplefour.xlsx\n",
      "Last Modified: 2024-08-28 23:35:31\n",
      "\n",
      "Data from C:/Users/berry/Documents/PythonScript/Data/2024\\Apr\\SampleOne.xlsx has been appended to C:/Users/berry/Documents/PythonScript/Data/2024/Final.xlsx\n",
      "Filename: SampleOne.xlsx\n",
      "Path: C:/Users/berry/Documents/PythonScript/Data/2024\\Apr\\SampleOne.xlsx\n",
      "Last Modified: 2024-08-28 23:34:05\n",
      "\n",
      "Data from C:/Users/berry/Documents/PythonScript/Data/2024\\May\\Samplethree.xlsx has been appended to C:/Users/berry/Documents/PythonScript/Data/2024/Final.xlsx\n",
      "Filename: Samplethree.xlsx\n",
      "Path: C:/Users/berry/Documents/PythonScript/Data/2024\\May\\Samplethree.xlsx\n",
      "Last Modified: 2024-08-28 23:38:25\n",
      "\n",
      "Data from C:/Users/berry/Documents/PythonScript/Data/2024\\Feb\\Sampletwo.xlsx has been appended to C:/Users/berry/Documents/PythonScript/Data/2024/Final.xlsx\n",
      "Filename: Sampletwo.xlsx\n",
      "Path: C:/Users/berry/Documents/PythonScript/Data/2024\\Feb\\Sampletwo.xlsx\n",
      "Last Modified: 2024-08-28 23:37:54\n",
      "\n"
     ]
    }
   ],
   "source": [
    "root_directory = \"C:/Users/berry/Documents/PythonScript/Data/2024\"\n",
    "output_file_path = \"C:/Users/berry/Documents/PythonScript/Data/2024/Final.xlsx\"\n",
    "latest_files = get_latest_files(root_directory)\n",
    "\n",
    "# Print the latest files with their paths and modified times\n",
    "for filename, (file_path, mod_time) in latest_files.items():\n",
    "    append_excel_sheets_to_output(file_path, output_file_path)\n",
    "    print(f\"Filename: {filename}\\nPath: {file_path}\\nLast Modified: {mod_time}\\n\")"
   ]
  },
  {
   "cell_type": "code",
   "execution_count": null,
   "metadata": {},
   "outputs": [],
   "source": [
    "root_directory = \"C:/Users/berry/Documents/PythonScript/Data/2024\"\n",
    "latest_files = get_latest_files(root_directory)\n",
    "\n",
    "# Print the latest files with their paths and modified times\n",
    "for filename, (file_path, mod_time) in latest_files.items():\n",
    "    print(f\"Filename: {filename}\\nPath: {file_path}\\nLast Modified: {mod_time}\\n\")"
   ]
  },
  {
   "cell_type": "code",
   "execution_count": null,
   "metadata": {},
   "outputs": [],
   "source": [
    "def append_excel_files_to_output(root_dir, output_file):\n",
    "    # Create a Pandas Excel writer to write the output file\n",
    "    with pd.ExcelWriter(output_file, engine='xlsxwriter') as writer:\n",
    "        for dirpath, dirnames, filenames in os.walk(root_dir):\n",
    "            for filename in filenames:\n",
    "                if filename.endswith('.xlsx') or filename.endswith('.xls'):\n",
    "                    file_path = os.path.join(dirpath, filename)\n",
    "                    print(f\"Processing file: {file_path}\")\n",
    "                    \n",
    "                    # Read each sheet in the current Excel file\n",
    "                    excel_file = pd.ExcelFile(file_path)\n",
    "                    for sheet_name in excel_file.sheet_names:\n",
    "                        df = pd.read_excel(excel_file, sheet_name=sheet_name)\n",
    "                        # Write each sheet's data into the output Excel file\n",
    "                        df.to_excel(writer, sheet_name=f\"{filename}_{sheet_name}\", index=False)\n",
    "\n",
    "    print(f\"All files have been appended to {output_file}\")"
   ]
  },
  {
   "cell_type": "code",
   "execution_count": 7,
   "metadata": {},
   "outputs": [
    {
     "name": "stdout",
     "output_type": "stream",
     "text": [
      "Requirement already satisfied: pandas in c:\\programdata\\anaconda3\\lib\\site-packages (0.25.1)\n",
      "Requirement already satisfied: openpyxl in c:\\programdata\\anaconda3\\lib\\site-packages (3.0.0)\n",
      "Requirement already satisfied: numpy>=1.13.3 in c:\\programdata\\anaconda3\\lib\\site-packages (from pandas) (1.16.5)\n",
      "Requirement already satisfied: pytz>=2017.2 in c:\\programdata\\anaconda3\\lib\\site-packages (from pandas) (2019.3)\n",
      "Requirement already satisfied: python-dateutil>=2.6.1 in c:\\programdata\\anaconda3\\lib\\site-packages (from pandas) (2.8.0)\n",
      "Requirement already satisfied: et-xmlfile in c:\\programdata\\anaconda3\\lib\\site-packages (from openpyxl) (1.0.1)\n",
      "Requirement already satisfied: jdcal in c:\\programdata\\anaconda3\\lib\\site-packages (from openpyxl) (1.4.1)\n",
      "Requirement already satisfied: six>=1.5 in c:\\programdata\\anaconda3\\lib\\site-packages (from python-dateutil>=2.6.1->pandas) (1.12.0)\n",
      "Note: you may need to restart the kernel to use updated packages.\n"
     ]
    }
   ],
   "source": [
    "pip install pandas openpyxl"
   ]
  },
  {
   "cell_type": "code",
   "execution_count": 14,
   "metadata": {},
   "outputs": [],
   "source": [
    "def append_excel_sheets_to_output(file_path, output_file):\n",
    "    # Read all sheets from the input Excel file\n",
    "    all_sheets = pd.read_excel(file_path, sheet_name=None)\n",
    "\n",
    "    # Create an empty DataFrame to store the data\n",
    "    combined_data = pd.DataFrame()\n",
    "\n",
    "    # Iterate over each sheet and append its data to the combined DataFrame\n",
    "    for sheet_name, data in all_sheets.items():\n",
    "        # Optional: Add a column to indicate the sheet name\n",
    "        data['SheetName'] = sheet_name\n",
    "        combined_data = pd.concat([combined_data, data], ignore_index=True)\n",
    "\n",
    "    # Check if the output file already exists\n",
    "    if os.path.exists(output_file):\n",
    "        # If it exists, append the new data to it\n",
    "        with pd.ExcelWriter(output_file, mode='a', engine='openpyxl', if_sheet_exists='new') as writer:\n",
    "            combined_data.to_excel(writer, index=False, sheet_name='AAAA')\n",
    "    else:\n",
    "        # If it doesn't exist, create a new Excel file\n",
    "        with pd.ExcelWriter(output_file, engine='openpyxl') as writer:\n",
    "            combined_data.to_excel(writer, index=False, sheet_name='AAAA')\n",
    "\n",
    "    print(f\"Data from {file_path} has been appended to {output_file}\")"
   ]
  },
  {
   "cell_type": "code",
   "execution_count": null,
   "metadata": {},
   "outputs": [],
   "source": [
    "----------------\n"
   ]
  },
  {
   "cell_type": "code",
   "execution_count": 12,
   "metadata": {},
   "outputs": [],
   "source": []
  },
  {
   "cell_type": "code",
   "execution_count": 15,
   "metadata": {},
   "outputs": [
    {
     "name": "stdout",
     "output_type": "stream",
     "text": [
      "Data from C:/Users/berry/Documents/PythonScript/Data/2024\\Apr\\Samplefour.xlsx has been combined into C:/Users/berry/Documents/PythonScript/Data/2024/Final1.xlsx in the sheet 'Combined_Data'\n",
      "Data from C:/Users/berry/Documents/PythonScript/Data/2024\\Apr\\SampleOne.xlsx has been combined into C:/Users/berry/Documents/PythonScript/Data/2024/Final1.xlsx in the sheet 'Combined_Data'\n",
      "Data from C:/Users/berry/Documents/PythonScript/Data/2024\\May\\Samplethree.xlsx has been combined into C:/Users/berry/Documents/PythonScript/Data/2024/Final1.xlsx in the sheet 'Combined_Data'\n",
      "Data from C:/Users/berry/Documents/PythonScript/Data/2024\\Feb\\Sampletwo.xlsx has been combined into C:/Users/berry/Documents/PythonScript/Data/2024/Final1.xlsx in the sheet 'Combined_Data'\n",
      "Done\n"
     ]
    },
    {
     "name": "stderr",
     "output_type": "stream",
     "text": [
      "C:\\ProgramData\\Anaconda3\\lib\\site-packages\\ipykernel_launcher.py:11: SettingWithCopyWarning: \n",
      "A value is trying to be set on a copy of a slice from a DataFrame\n",
      "\n",
      "See the caveats in the documentation: http://pandas.pydata.org/pandas-docs/stable/user_guide/indexing.html#returning-a-view-versus-a-copy\n",
      "  # This is added back by InteractiveShellApp.init_path()\n"
     ]
    }
   ],
   "source": [
    "root_directory = \"C:/Users/berry/Documents/PythonScript/Data/2024\"\n",
    "output_file_path = \"C:/Users/berry/Documents/PythonScript/Data/2024/Final1.xlsx\"\n",
    "latest_files = get_latest_files(root_directory)\n",
    "\n",
    "# Print the latest files with their paths and modified times\n",
    "for filename, (file_path, mod_time) in latest_files.items():\n",
    "    append_sheets_to_single_output_sheet(file_path, output_file_path)\n",
    "\n",
    "print(\"Done\")    \n",
    "#print(f\"Filename: {filename}\\nPath: {file_path}\\nLast Modified: {mod_time}\\n\")"
   ]
  },
  {
   "cell_type": "code",
   "execution_count": null,
   "metadata": {},
   "outputs": [],
   "source": [
    "-----------------\n"
   ]
  },
  {
   "cell_type": "code",
   "execution_count": 21,
   "metadata": {},
   "outputs": [],
   "source": [
    "def read_and_process_excel(input_file_path, output_file_path):\n",
    "    # Read the Excel file\n",
    "    xls = pd.ExcelFile(input_file_path)\n",
    "    \n",
    "    # Dictionary to store processed data\n",
    "    processed_data = {}\n",
    "\n",
    "    # Loop through each sheet in the Excel file\n",
    "    for sheet_name in xls.sheet_names:\n",
    "        # Read the sheet into a DataFrame\n",
    "        df = pd.read_excel(xls, sheet_name=sheet_name)\n",
    "        \n",
    "        # Drop duplicates to ensure unique data\n",
    "        df_unique = df.drop_duplicates()\n",
    "\n",
    "        # If the sheet name already exists in the dictionary, append the data\n",
    "        if sheet_name in processed_data:\n",
    "            processed_data[sheet_name] = pd.concat([processed_data[sheet_name], df_unique]).drop_duplicates()\n",
    "        else:\n",
    "            processed_data[sheet_name] = df_unique\n",
    "    \n",
    "    # Write the data to the output file\n",
    "    if os.path.exists(output_file_path):\n",
    "        # Load the existing output Excel file\n",
    "        with pd.ExcelWriter(output_file_path, engine='openpyxl', mode='a', if_sheet_exists='overlay') as writer:\n",
    "            for sheet_name, df in processed_data.items():\n",
    "                # If the sheet already exists in the output file, append data\n",
    "                try:\n",
    "                    existing_df = pd.read_excel(output_file_path, sheet_name=sheet_name)\n",
    "                    combined_df = pd.concat([existing_df, df]).drop_duplicates()\n",
    "                except ValueError:\n",
    "                    # If the sheet doesn't exist in the output file, use the new data\n",
    "                    combined_df = df\n",
    "                \n",
    "                # Write the combined DataFrame to the output file\n",
    "                combined_df.to_excel(writer, sheet_name=sheet_name, index=False)\n",
    "    else:\n",
    "        # Create a new Excel file with the unique data\n",
    "        with pd.ExcelWriter(output_file_path, engine='openpyxl') as writer:\n",
    "            for sheet_name, df in processed_data.items():\n",
    "                # Write each DataFrame to the corresponding sheet in the new output file\n",
    "                df.to_excel(writer, sheet_name=sheet_name, index=False)\n",
    "\n",
    "    print(f\"Data has been successfully written to {output_file_path}\")\n"
   ]
  },
  {
   "cell_type": "code",
   "execution_count": 22,
   "metadata": {},
   "outputs": [
    {
     "name": "stdout",
     "output_type": "stream",
     "text": [
      "Data has been successfully written to C:/Users/berry/Documents/PythonScript/Data/Final.xlsx\n",
      "Filename: Samplefour.xlsx\n",
      "Path: C:/Users/berry/Documents/PythonScript/Data/2024\\Apr\\Samplefour.xlsx\n",
      "Last Modified: 2024-08-28 23:35:31\n",
      "\n",
      "Data has been successfully written to C:/Users/berry/Documents/PythonScript/Data/Final.xlsx\n",
      "Filename: SampleOne.xlsx\n",
      "Path: C:/Users/berry/Documents/PythonScript/Data/2024\\Apr\\SampleOne.xlsx\n",
      "Last Modified: 2024-08-28 23:34:05\n",
      "\n",
      "Data has been successfully written to C:/Users/berry/Documents/PythonScript/Data/Final.xlsx\n",
      "Filename: Samplethree.xlsx\n",
      "Path: C:/Users/berry/Documents/PythonScript/Data/2024\\May\\Samplethree.xlsx\n",
      "Last Modified: 2024-08-28 23:38:25\n",
      "\n",
      "Data has been successfully written to C:/Users/berry/Documents/PythonScript/Data/Final.xlsx\n",
      "Filename: Sampletwo.xlsx\n",
      "Path: C:/Users/berry/Documents/PythonScript/Data/2024\\Feb\\Sampletwo.xlsx\n",
      "Last Modified: 2024-08-28 23:37:54\n",
      "\n"
     ]
    }
   ],
   "source": [
    "root_directory = \"C:/Users/berry/Documents/PythonScript/Data/2024\"\n",
    "output_file_path = \"C:/Users/berry/Documents/PythonScript/Data/Final.xlsx\"\n",
    "latest_files = get_latest_files(root_directory)\n",
    "\n",
    "# Print the latest files with their paths and modified times\n",
    "for filename, (file_path, mod_time) in latest_files.items():\n",
    "    read_and_process_excel(file_path, output_file_path)\n",
    "    print(f\"Filename: {filename}\\nPath: {file_path}\\nLast Modified: {mod_time}\\n\")\n",
    "    \n"
   ]
  },
  {
   "cell_type": "code",
   "execution_count": 23,
   "metadata": {},
   "outputs": [],
   "source": [
    "def read_and_combine_excel_sheets(input_file_path, output_file_path, output_sheet_name=\"AAAA\"):\n",
    "    # Read the Excel file\n",
    "    xls = pd.ExcelFile(input_file_path)\n",
    "    \n",
    "    # Initialize an empty DataFrame to store combined data\n",
    "    combined_df = pd.DataFrame()\n",
    "\n",
    "    # Loop through each sheet in the Excel file\n",
    "    for sheet_name in xls.sheet_names:\n",
    "        # Read the sheet into a DataFrame\n",
    "        df = pd.read_excel(xls, sheet_name=sheet_name)\n",
    "        \n",
    "        # Append the data from this sheet to the combined DataFrame\n",
    "        combined_df = pd.concat([combined_df, df])\n",
    "    \n",
    "    # Drop duplicates to ensure unique data\n",
    "    combined_df = combined_df.drop_duplicates()\n",
    "\n",
    "    # Write the combined data to the output file\n",
    "    if os.path.exists(output_file_path):\n",
    "        # Load the existing output Excel file and append data\n",
    "        with pd.ExcelWriter(output_file_path, engine='openpyxl', mode='a', if_sheet_exists='replace') as writer:\n",
    "            combined_df.to_excel(writer, sheet_name=output_sheet_name, index=False)\n",
    "    else:\n",
    "        # Create a new Excel file with the combined data\n",
    "        with pd.ExcelWriter(output_file_path, engine='openpyxl') as writer:\n",
    "            combined_df.to_excel(writer, sheet_name=output_sheet_name, index=False)\n",
    "\n",
    "    print(f\"All sheets have been combined into sheet '{output_sheet_name}' and written to {output_file_path}\")\n"
   ]
  },
  {
   "cell_type": "code",
   "execution_count": 24,
   "metadata": {},
   "outputs": [
    {
     "name": "stdout",
     "output_type": "stream",
     "text": [
      "Data has been successfully written to C:/Users/berry/Documents/PythonScript/Data/Final123.xlsx\n",
      "Filename: Samplefour.xlsx\n",
      "Path: C:/Users/berry/Documents/PythonScript/Data/2024\\Apr\\Samplefour.xlsx\n",
      "Last Modified: 2024-08-28 23:35:31\n",
      "\n",
      "Data has been successfully written to C:/Users/berry/Documents/PythonScript/Data/Final123.xlsx\n",
      "Filename: SampleOne.xlsx\n",
      "Path: C:/Users/berry/Documents/PythonScript/Data/2024\\Apr\\SampleOne.xlsx\n",
      "Last Modified: 2024-08-28 23:34:05\n",
      "\n",
      "Data has been successfully written to C:/Users/berry/Documents/PythonScript/Data/Final123.xlsx\n",
      "Filename: Samplethree.xlsx\n",
      "Path: C:/Users/berry/Documents/PythonScript/Data/2024\\May\\Samplethree.xlsx\n",
      "Last Modified: 2024-08-28 23:38:25\n",
      "\n",
      "Data has been successfully written to C:/Users/berry/Documents/PythonScript/Data/Final123.xlsx\n",
      "Filename: Sampletwo.xlsx\n",
      "Path: C:/Users/berry/Documents/PythonScript/Data/2024\\Feb\\Sampletwo.xlsx\n",
      "Last Modified: 2024-08-28 23:37:54\n",
      "\n"
     ]
    }
   ],
   "source": [
    "root_directory = \"C:/Users/berry/Documents/PythonScript/Data/2024\"\n",
    "output_file_path = \"C:/Users/berry/Documents/PythonScript/Data/Final123.xlsx\"\n",
    "latest_files = get_latest_files(root_directory)\n",
    "\n",
    "# Print the latest files with their paths and modified times\n",
    "for filename, (file_path, mod_time) in latest_files.items():\n",
    "    read_and_process_excel(file_path, output_file_path)\n",
    "    print(f\"Filename: {filename}\\nPath: {file_path}\\nLast Modified: {mod_time}\\n\")"
   ]
  },
  {
   "cell_type": "code",
   "execution_count": null,
   "metadata": {},
   "outputs": [],
   "source": []
  }
 ],
 "metadata": {
  "kernelspec": {
   "display_name": "Python 3",
   "language": "python",
   "name": "python3"
  },
  "language_info": {
   "codemirror_mode": {
    "name": "ipython",
    "version": 3
   },
   "file_extension": ".py",
   "mimetype": "text/x-python",
   "name": "python",
   "nbconvert_exporter": "python",
   "pygments_lexer": "ipython3",
   "version": "3.7.4"
  }
 },
 "nbformat": 4,
 "nbformat_minor": 2
}
